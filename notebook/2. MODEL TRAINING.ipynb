{
 "cells": [
  {
   "cell_type": "markdown",
   "metadata": {},
   "source": [
    "# Model Training\n"
   ]
  },
  {
   "cell_type": "markdown",
   "metadata": {},
   "source": [
    "### 1.1 Important Data and Required Packages\n"
   ]
  },
  {
   "cell_type": "markdown",
   "metadata": {},
   "source": [
    "##### Importing Pandas, Numpy, Matplotlib, Seaborn and Warnings Library\n"
   ]
  },
  {
   "cell_type": "code",
   "execution_count": 1,
   "metadata": {},
   "outputs": [],
   "source": [
    "import numpy as np\n",
    "import pandas as pd\n",
    "import matplotlib.pyplot as plt\n",
    "import seaborn as sns\n",
    "\n",
    "# Modeling\n",
    "from sklearn.metrics import mean_squared_error, r2_score, mean_absolute_error\n",
    "from sklearn.neighbors import KNeighborsRegressor\n",
    "from sklearn.tree import DecisionTreeRegressor\n",
    "from sklearn.ensemble import RandomForestRegressor, AdaBoostRegressor\n",
    "from sklearn.svm import SVR\n",
    "from sklearn.linear_model import LinearRegression, Ridge, Lasso\n",
    "from sklearn.model_selection import RandomizedSearchCV, train_test_split\n",
    "from sklearn.preprocessing import OneHotEncoder, StandardScaler\n",
    "from sklearn.compose import ColumnTransformer\n",
    "from xgboost import XGBRFRegressor\n",
    "import warnings"
   ]
  },
  {
   "cell_type": "markdown",
   "metadata": {},
   "source": [
    "### Import the CSV Data as Pandas Dataframe\n"
   ]
  },
  {
   "cell_type": "code",
   "execution_count": 2,
   "metadata": {},
   "outputs": [],
   "source": [
    "df = pd.read_csv('data/stud.csv')"
   ]
  },
  {
   "cell_type": "markdown",
   "metadata": {},
   "source": [
    "##### Show first 5 records\n"
   ]
  },
  {
   "cell_type": "code",
   "execution_count": 3,
   "metadata": {},
   "outputs": [
    {
     "data": {
      "text/html": [
       "<div>\n",
       "<style scoped>\n",
       "    .dataframe tbody tr th:only-of-type {\n",
       "        vertical-align: middle;\n",
       "    }\n",
       "\n",
       "    .dataframe tbody tr th {\n",
       "        vertical-align: top;\n",
       "    }\n",
       "\n",
       "    .dataframe thead th {\n",
       "        text-align: right;\n",
       "    }\n",
       "</style>\n",
       "<table border=\"1\" class=\"dataframe\">\n",
       "  <thead>\n",
       "    <tr style=\"text-align: right;\">\n",
       "      <th></th>\n",
       "      <th>gender</th>\n",
       "      <th>race_ethnicity</th>\n",
       "      <th>parental_level_of_education</th>\n",
       "      <th>lunch</th>\n",
       "      <th>test_preparation_course</th>\n",
       "      <th>math_score</th>\n",
       "      <th>reading_score</th>\n",
       "      <th>writing_score</th>\n",
       "    </tr>\n",
       "  </thead>\n",
       "  <tbody>\n",
       "    <tr>\n",
       "      <th>0</th>\n",
       "      <td>female</td>\n",
       "      <td>group B</td>\n",
       "      <td>bachelor's degree</td>\n",
       "      <td>standard</td>\n",
       "      <td>none</td>\n",
       "      <td>72</td>\n",
       "      <td>72</td>\n",
       "      <td>74</td>\n",
       "    </tr>\n",
       "    <tr>\n",
       "      <th>1</th>\n",
       "      <td>female</td>\n",
       "      <td>group C</td>\n",
       "      <td>some college</td>\n",
       "      <td>standard</td>\n",
       "      <td>completed</td>\n",
       "      <td>69</td>\n",
       "      <td>90</td>\n",
       "      <td>88</td>\n",
       "    </tr>\n",
       "    <tr>\n",
       "      <th>2</th>\n",
       "      <td>female</td>\n",
       "      <td>group B</td>\n",
       "      <td>master's degree</td>\n",
       "      <td>standard</td>\n",
       "      <td>none</td>\n",
       "      <td>90</td>\n",
       "      <td>95</td>\n",
       "      <td>93</td>\n",
       "    </tr>\n",
       "    <tr>\n",
       "      <th>3</th>\n",
       "      <td>male</td>\n",
       "      <td>group A</td>\n",
       "      <td>associate's degree</td>\n",
       "      <td>free/reduced</td>\n",
       "      <td>none</td>\n",
       "      <td>47</td>\n",
       "      <td>57</td>\n",
       "      <td>44</td>\n",
       "    </tr>\n",
       "    <tr>\n",
       "      <th>4</th>\n",
       "      <td>male</td>\n",
       "      <td>group C</td>\n",
       "      <td>some college</td>\n",
       "      <td>standard</td>\n",
       "      <td>none</td>\n",
       "      <td>76</td>\n",
       "      <td>78</td>\n",
       "      <td>75</td>\n",
       "    </tr>\n",
       "  </tbody>\n",
       "</table>\n",
       "</div>"
      ],
      "text/plain": [
       "   gender race_ethnicity parental_level_of_education         lunch  \\\n",
       "0  female        group B           bachelor's degree      standard   \n",
       "1  female        group C                some college      standard   \n",
       "2  female        group B             master's degree      standard   \n",
       "3    male        group A          associate's degree  free/reduced   \n",
       "4    male        group C                some college      standard   \n",
       "\n",
       "  test_preparation_course  math_score  reading_score  writing_score  \n",
       "0                    none          72             72             74  \n",
       "1               completed          69             90             88  \n",
       "2                    none          90             95             93  \n",
       "3                    none          47             57             44  \n",
       "4                    none          76             78             75  "
      ]
     },
     "execution_count": 3,
     "metadata": {},
     "output_type": "execute_result"
    }
   ],
   "source": [
    "df.head()"
   ]
  },
  {
   "cell_type": "markdown",
   "metadata": {},
   "source": [
    "#### Preparing X and Y variable\n"
   ]
  },
  {
   "cell_type": "code",
   "execution_count": 4,
   "metadata": {},
   "outputs": [],
   "source": [
    "X = df.drop(columns=['math_score'], axis=1)\n",
    "y = df['math_score']"
   ]
  },
  {
   "cell_type": "code",
   "execution_count": 5,
   "metadata": {},
   "outputs": [],
   "source": [
    "numerical_features = X.select_dtypes(exclude=\"object\").columns\n",
    "categorical_features = X.select_dtypes(include=\"object\").columns"
   ]
  },
  {
   "cell_type": "code",
   "execution_count": null,
   "metadata": {},
   "outputs": [],
   "source": [
    "# StandardScaler: Scales numerical features to have a mean of 0 and a standard deviation of 1\n",
    "numeric_transformer = StandardScaler()\n",
    "\n",
    "# OneHotEncoder: Converts categorical features into binary (0s and 1s) columns\n",
    "one_hot_transformer = OneHotEncoder()\n",
    "\n",
    "# ColumnTransformer: Combines both transformers to preprocess numerical and categorical features\n",
    "preprocessor = ColumnTransformer(\n",
    "    [\n",
    "        # Apply OneHotEncoder to the categorical features\n",
    "        ('OneHotEncoder', one_hot_transformer, categorical_features),\n",
    "\n",
    "        # Apply StandardScaler to the numerical features\n",
    "        ('StandardScaler', numeric_transformer, numerical_features),\n",
    "    ]\n",
    ")\n",
    "\n",
    "# The 'preprocessor' object now transforms the input dataset as follows:\n",
    "# - Categorical features will be converted into binary columns (one-hot encoding)\n",
    "# - Numerical features will be standardized (scaled) for consistency\n",
    "#\n",
    "# This makes the input ready to feed into a machine learning model,\n",
    "# ensuring that both feature types are preprocessed correctly and efficiently."
   ]
  },
  {
   "cell_type": "code",
   "execution_count": 7,
   "metadata": {},
   "outputs": [],
   "source": [
    "X = preprocessor.fit_transform(X)"
   ]
  },
  {
   "cell_type": "code",
   "execution_count": 9,
   "metadata": {},
   "outputs": [
    {
     "data": {
      "text/plain": [
       "(1000, 19)"
      ]
     },
     "execution_count": 9,
     "metadata": {},
     "output_type": "execute_result"
    }
   ],
   "source": [
    "X.shape"
   ]
  },
  {
   "cell_type": "code",
   "execution_count": 10,
   "metadata": {},
   "outputs": [],
   "source": [
    "# split dataset into train and test\n",
    "\n",
    "X_train, X_test, y_train, y_test = train_test_split(X, y, test_size=0.2, random_state=42)\n"
   ]
  },
  {
   "cell_type": "code",
   "execution_count": 11,
   "metadata": {},
   "outputs": [
    {
     "name": "stdout",
     "output_type": "stream",
     "text": [
      "(800, 19)\n",
      "(200, 19)\n",
      "(800,)\n",
      "(200,)\n"
     ]
    }
   ],
   "source": [
    "print(X_train.shape)\n",
    "print(X_test.shape)\n",
    "print(y_train.shape)\n",
    "print(y_test.shape)\n"
   ]
  },
  {
   "cell_type": "markdown",
   "metadata": {},
   "source": [
    "#### Create a Function to Evaluate and give all metrics after model Training\n"
   ]
  },
  {
   "cell_type": "code",
   "execution_count": 12,
   "metadata": {},
   "outputs": [],
   "source": [
    "def evaluate_model(y_true, y_pred):\n",
    "    \"\"\"\n",
    "    Evaluate the performance of a regression model.\n",
    "\n",
    "    Parameters:\n",
    "    - y_true (array-like): The true target values.\n",
    "    - y_pred (array-like): The predicted target values from the model.\n",
    "\n",
    "    Returns:\n",
    "    - dict: A dictionary containing:\n",
    "        - 'MAE': Mean Absolute Error\n",
    "        - 'RMSE': Root Mean Squared Error\n",
    "        - 'R2': R-squared (coefficient of determination)\n",
    "    \n",
    "    \"\"\"\n",
    "    # Calculate regression evaluation metrics\n",
    "    mae = mean_absolute_error(y_true, y_pred)  # Mean Absolute Error\n",
    "    rmse = np.sqrt(mean_squared_error(y_true, y_pred))  # Root Mean Squared Error\n",
    "    r2 = r2_score(y_true, y_pred)  # R-squared score\n",
    "    \n",
    "    # Return metrics as a dictionary for better usability\n",
    "    return {\n",
    "        'MAE': mae,\n",
    "        'RMSE': rmse,\n",
    "        'R2': r2\n",
    "    }\n"
   ]
  },
  {
   "cell_type": "code",
   "execution_count": 13,
   "metadata": {},
   "outputs": [],
   "source": [
    "# Dictionary of regression models\n",
    "models = {\n",
    "    \"Linear Regression\": LinearRegression(),\n",
    "    \"Ridge Regression\": Ridge(),\n",
    "    \"Lasso Regression\": Lasso(),\n",
    "    \"K-Nearest Neighbors\": KNeighborsRegressor(),\n",
    "    \"Decision Tree\": DecisionTreeRegressor(),\n",
    "    \"Random Forest\": RandomForestRegressor(),\n",
    "    \"AdaBoost\": AdaBoostRegressor(),\n",
    "    \"Support Vector Regressor (SVR)\": SVR(),\n",
    "    \"XGBRF Regressor\": XGBRFRegressor()\n",
    "}\n"
   ]
  },
  {
   "cell_type": "code",
   "execution_count": 15,
   "metadata": {},
   "outputs": [
    {
     "name": "stdout",
     "output_type": "stream",
     "text": [
      "Model: Linear Regression\n",
      "  Train - MAE: 4.267, RMSE: 5.323, R2: 0.874\n",
      "  Test  - MAE: 4.215, RMSE: 5.394, R2: 0.880\n",
      "------------------------------------------------------------\n",
      "Model: Ridge Regression\n",
      "  Train - MAE: 4.265, RMSE: 5.323, R2: 0.874\n",
      "  Test  - MAE: 4.211, RMSE: 5.390, R2: 0.881\n",
      "------------------------------------------------------------\n",
      "Model: Lasso Regression\n",
      "  Train - MAE: 5.206, RMSE: 6.594, R2: 0.807\n",
      "  Test  - MAE: 5.158, RMSE: 6.520, R2: 0.825\n",
      "------------------------------------------------------------\n",
      "Model: K-Nearest Neighbors\n",
      "  Train - MAE: 4.517, RMSE: 5.708, R2: 0.855\n",
      "  Test  - MAE: 5.621, RMSE: 7.253, R2: 0.784\n",
      "------------------------------------------------------------\n",
      "Model: Decision Tree\n",
      "  Train - MAE: 0.019, RMSE: 0.280, R2: 1.000\n",
      "  Test  - MAE: 6.150, RMSE: 7.772, R2: 0.752\n",
      "------------------------------------------------------------\n",
      "Model: Random Forest\n",
      "  Train - MAE: 1.817, RMSE: 2.280, R2: 0.977\n",
      "  Test  - MAE: 4.637, RMSE: 6.020, R2: 0.851\n",
      "------------------------------------------------------------\n",
      "Model: AdaBoost\n",
      "  Train - MAE: 4.792, RMSE: 5.869, R2: 0.847\n",
      "  Test  - MAE: 4.713, RMSE: 6.048, R2: 0.850\n",
      "------------------------------------------------------------\n",
      "Model: Support Vector Regressor (SVR)\n",
      "  Train - MAE: 4.869, RMSE: 6.577, R2: 0.808\n",
      "  Test  - MAE: 5.402, RMSE: 8.127, R2: 0.729\n",
      "------------------------------------------------------------\n",
      "Model: XGBRF Regressor\n",
      "  Train - MAE: 3.785, RMSE: 4.718, R2: 0.901\n",
      "  Test  - MAE: 4.508, RMSE: 5.747, R2: 0.864\n",
      "------------------------------------------------------------\n"
     ]
    }
   ],
   "source": [
    "results = {}\n",
    "\n",
    "# Loop through all models\n",
    "for model_name, model in models.items():\n",
    "    model.fit(X_train, y_train)\n",
    "    \n",
    "    # Predictions for train and test sets\n",
    "    train_pred = model.predict(X_train)\n",
    "    test_pred = model.predict(X_test)\n",
    "    \n",
    "    # Evaluate the model\n",
    "    train_metrics = evaluate_model(y_train, train_pred)\n",
    "    test_metrics = evaluate_model(y_test, test_pred)\n",
    "    \n",
    "    # Store the results using string keys\n",
    "    results[model_name] = {\n",
    "        \"Train\": {\"MAE\": train_metrics['MAE'], \"RMSE\": train_metrics['RMSE'], \"R2\": train_metrics['R2']},\n",
    "        \"Test\": {\"MAE\": test_metrics['MAE'], \"RMSE\": test_metrics['RMSE'], \"R2\": test_metrics['R2']},\n",
    "    }\n",
    "\n",
    "# Print Results for Train and Test\n",
    "for model_name, metrics in results.items():\n",
    "    print(f\"Model: {model_name}\")\n",
    "    print(f\"  Train - MAE: {metrics['Train']['MAE']:.3f}, RMSE: {metrics['Train']['RMSE']:.3f}, R2: {metrics['Train']['R2']:.3f}\")\n",
    "    print(f\"  Test  - MAE: {metrics['Test']['MAE']:.3f}, RMSE: {metrics['Test']['RMSE']:.3f}, R2: {metrics['Test']['R2']:.3f}\")\n",
    "    print(\"-\" * 60)\n"
   ]
  },
  {
   "cell_type": "markdown",
   "metadata": {},
   "source": [
    "# Interpretation\n",
    "\n",
    "### Key Metrics Recap\n",
    "\n",
    "- **MAE (Mean Absolute Error):** Average magnitude of the errors (absolute). Lower values mean better performance.\n",
    "- **RMSE (Root Mean Squared Error):** Average magnitude of squared errors. More sensitive to large errors than MAE. Lower is better.\n",
    "- **R² (R-Squared):** Proportion of variance in the target variable explained by the model.\n",
    "  - **1.0** is a perfect model, closer to **1** is better.\n",
    "  - A **negative R²** indicates worse than a baseline.\n",
    "\n",
    "---\n",
    "\n",
    "### 1. Linear Regression\n",
    "\n",
    "- **Train:** MAE = 4.267, RMSE = 5.323, R² = 0.874\n",
    "- **Test:** MAE = 4.215, RMSE = 5.394, R² = 0.880  \n",
    "  **Interpretation:** Linear Regression generalizes well since train and test metrics are similar. R² shows it explains ~87-88% of the target’s variance. Slightly higher RMSE than MAE suggests no extreme large errors.\n",
    "\n",
    "---\n",
    "\n",
    "### 2. Ridge Regression\n",
    "\n",
    "- **Train:** MAE = 4.265, RMSE = 5.323, R² = 0.874\n",
    "- **Test:** MAE = 4.211, RMSE = 5.390, R² = 0.881  \n",
    "  **Interpretation:** Ridge (L2 regularization) is almost identical to Linear Regression. This suggests overfitting is not a major issue for this dataset, so Ridge's regularization didn't make a big impact.\n",
    "\n",
    "---\n",
    "\n",
    "### 3. Lasso Regression\n",
    "\n",
    "- **Train:** MAE = 5.206, RMSE = 6.594, R² = 0.807\n",
    "- **Test:** MAE = 5.158, RMSE = 6.520, R² = 0.825  \n",
    "  **Interpretation:** Lasso Regression (L1 regularization) has slightly worse metrics compared to Ridge and Linear Regression. Its RMSE and MAE are higher, and R² dropped to ~80-82%. Lasso might have removed some features or shrunk coefficients that were useful.\n",
    "\n",
    "---\n",
    "\n",
    "### 4. K-Nearest Neighbors (KNN)\n",
    "\n",
    "- **Train:** MAE = 4.517, RMSE = 5.708, R² = 0.855\n",
    "- **Test:** MAE = 5.621, RMSE = 7.253, R² = 0.784  \n",
    "  **Interpretation:** KNN performed decently but overfitted slightly as seen from higher Test error metrics (5.6 MAE, 7.25 RMSE). The performance drop in R² (0.78 Test vs 0.85 Train) indicates this.\n",
    "\n",
    "---\n",
    "\n",
    "### 5. Decision Tree\n",
    "\n",
    "- **Train:** MAE = 0.019, RMSE = 0.280, R² = 1.000\n",
    "- **Test:** MAE = 6.150, RMSE = 7.772, R² = 0.752  \n",
    "  **Interpretation:** The **train metrics** are a clear sign of **overfitting**—the Decision Tree has completely memorized the training data with perfect performance. However, on Test data, errors are much higher (R² = 0.75), meaning it generalizes poorly.\n",
    "\n",
    "---\n",
    "\n",
    "### 6. Random Forest\n",
    "\n",
    "- **Train:** MAE = 1.817, RMSE = 2.280, R² = 0.977\n",
    "- **Test:** MAE = 4.637, RMSE = 6.020, R² = 0.851  \n",
    "  **Interpretation:** Random Forest performs well, with R² ~85% on Test data and slightly better metrics than the Decision Tree. While overfitting exists (better performance on Train), it's significantly reduced compared to the single Decision Tree.\n",
    "\n",
    "---\n",
    "\n",
    "### 7. AdaBoost\n",
    "\n",
    "- **Train:** MAE = 4.792, RMSE = 5.869, R² = 0.847\n",
    "- **Test:** MAE = 4.713, RMSE = 6.048, R² = 0.850  \n",
    "  **Interpretation:** AdaBoost performs **very well**, generalizing almost identically for Train and Test. The R² values ~84-85% indicate a robust model.\n",
    "\n",
    "---\n",
    "\n",
    "### 8. Support Vector Regressor (SVR)\n",
    "\n",
    "- **Train:** MAE = 4.869, RMSE = 6.577, R² = 0.808\n",
    "- **Test:** MAE = 5.402, RMSE = 8.127, R² = 0.729  \n",
    "  **Interpretation:** SVR performs **worse** than most models here. The error is higher on both Train and Test, and R² drops below 73% on Test, indicating limited explanatory power and poorer generalization.\n",
    "\n",
    "---\n",
    "\n",
    "### 9. XGBRF Regressor (XGBoost with Random Forest)\n",
    "\n",
    "- **Train:** MAE = 3.785, RMSE = 4.718, R² = 0.901\n",
    "- **Test:** MAE = 4.508, RMSE = 5.747, R² = 0.864  \n",
    "  **Interpretation:** XGBRF is among the top-performing models. It strikes a good balance between performance on Train and Test data with only slight overfitting. The R² = ~86% for Test is excellent, and errors remain low.\n",
    "\n",
    "---\n",
    "\n",
    "### Key Takeaways:\n",
    "\n",
    "1. **Linear Regression, Ridge, and Random Forest** perform best for Test data. Their metrics are competitive and show minimal overfitting.\n",
    "2. **Decision Tree** severely overfits the Train data.\n",
    "3. **XGBRF** provides excellent generalization, performing on par with the best models.\n",
    "4. **SVR** struggles compared to other models.\n",
    "5. **Lasso Regression** underperforms, likely due to overly aggressive feature selection.\n",
    "6. **KNN** overfits slightly but still performs decently.\n",
    "\n",
    "---\n"
   ]
  },
  {
   "cell_type": "markdown",
   "metadata": {},
   "source": [
    "### Results\n"
   ]
  },
  {
   "cell_type": "code",
   "execution_count": 17,
   "metadata": {},
   "outputs": [
    {
     "data": {
      "text/html": [
       "<div>\n",
       "<style scoped>\n",
       "    .dataframe tbody tr th:only-of-type {\n",
       "        vertical-align: middle;\n",
       "    }\n",
       "\n",
       "    .dataframe tbody tr th {\n",
       "        vertical-align: top;\n",
       "    }\n",
       "\n",
       "    .dataframe thead th {\n",
       "        text-align: right;\n",
       "    }\n",
       "</style>\n",
       "<table border=\"1\" class=\"dataframe\">\n",
       "  <thead>\n",
       "    <tr style=\"text-align: right;\">\n",
       "      <th></th>\n",
       "      <th>Model Name</th>\n",
       "      <th>Train MAE</th>\n",
       "      <th>Train RMSE</th>\n",
       "      <th>Train R²</th>\n",
       "      <th>Test MAE</th>\n",
       "      <th>Test RMSE</th>\n",
       "      <th>Test R²</th>\n",
       "    </tr>\n",
       "  </thead>\n",
       "  <tbody>\n",
       "    <tr>\n",
       "      <th>1</th>\n",
       "      <td>Ridge Regression</td>\n",
       "      <td>4.264988</td>\n",
       "      <td>5.323325</td>\n",
       "      <td>0.874304</td>\n",
       "      <td>4.211101</td>\n",
       "      <td>5.390387</td>\n",
       "      <td>0.880593</td>\n",
       "    </tr>\n",
       "    <tr>\n",
       "      <th>0</th>\n",
       "      <td>Linear Regression</td>\n",
       "      <td>4.266712</td>\n",
       "      <td>5.323051</td>\n",
       "      <td>0.874317</td>\n",
       "      <td>4.214763</td>\n",
       "      <td>5.393994</td>\n",
       "      <td>0.880433</td>\n",
       "    </tr>\n",
       "    <tr>\n",
       "      <th>8</th>\n",
       "      <td>XGBRF Regressor</td>\n",
       "      <td>3.784855</td>\n",
       "      <td>4.718074</td>\n",
       "      <td>0.901262</td>\n",
       "      <td>4.507525</td>\n",
       "      <td>5.747154</td>\n",
       "      <td>0.864264</td>\n",
       "    </tr>\n",
       "    <tr>\n",
       "      <th>5</th>\n",
       "      <td>Random Forest</td>\n",
       "      <td>1.816708</td>\n",
       "      <td>2.279750</td>\n",
       "      <td>0.976947</td>\n",
       "      <td>4.637315</td>\n",
       "      <td>6.020060</td>\n",
       "      <td>0.851067</td>\n",
       "    </tr>\n",
       "    <tr>\n",
       "      <th>6</th>\n",
       "      <td>AdaBoost</td>\n",
       "      <td>4.791813</td>\n",
       "      <td>5.869128</td>\n",
       "      <td>0.847208</td>\n",
       "      <td>4.712728</td>\n",
       "      <td>6.048001</td>\n",
       "      <td>0.849681</td>\n",
       "    </tr>\n",
       "    <tr>\n",
       "      <th>2</th>\n",
       "      <td>Lasso Regression</td>\n",
       "      <td>5.206303</td>\n",
       "      <td>6.593816</td>\n",
       "      <td>0.807146</td>\n",
       "      <td>5.157882</td>\n",
       "      <td>6.519695</td>\n",
       "      <td>0.825320</td>\n",
       "    </tr>\n",
       "    <tr>\n",
       "      <th>3</th>\n",
       "      <td>K-Nearest Neighbors</td>\n",
       "      <td>4.516750</td>\n",
       "      <td>5.707885</td>\n",
       "      <td>0.855488</td>\n",
       "      <td>5.621000</td>\n",
       "      <td>7.253041</td>\n",
       "      <td>0.783813</td>\n",
       "    </tr>\n",
       "    <tr>\n",
       "      <th>4</th>\n",
       "      <td>Decision Tree</td>\n",
       "      <td>0.018750</td>\n",
       "      <td>0.279508</td>\n",
       "      <td>0.999653</td>\n",
       "      <td>6.150000</td>\n",
       "      <td>7.772387</td>\n",
       "      <td>0.751745</td>\n",
       "    </tr>\n",
       "    <tr>\n",
       "      <th>7</th>\n",
       "      <td>Support Vector Regressor (SVR)</td>\n",
       "      <td>4.869189</td>\n",
       "      <td>6.577007</td>\n",
       "      <td>0.808128</td>\n",
       "      <td>5.401539</td>\n",
       "      <td>8.126623</td>\n",
       "      <td>0.728600</td>\n",
       "    </tr>\n",
       "  </tbody>\n",
       "</table>\n",
       "</div>"
      ],
      "text/plain": [
       "                       Model Name  Train MAE  Train RMSE  Train R²  Test MAE  \\\n",
       "1                Ridge Regression   4.264988    5.323325  0.874304  4.211101   \n",
       "0               Linear Regression   4.266712    5.323051  0.874317  4.214763   \n",
       "8                 XGBRF Regressor   3.784855    4.718074  0.901262  4.507525   \n",
       "5                   Random Forest   1.816708    2.279750  0.976947  4.637315   \n",
       "6                        AdaBoost   4.791813    5.869128  0.847208  4.712728   \n",
       "2                Lasso Regression   5.206303    6.593816  0.807146  5.157882   \n",
       "3             K-Nearest Neighbors   4.516750    5.707885  0.855488  5.621000   \n",
       "4                   Decision Tree   0.018750    0.279508  0.999653  6.150000   \n",
       "7  Support Vector Regressor (SVR)   4.869189    6.577007  0.808128  5.401539   \n",
       "\n",
       "   Test RMSE   Test R²  \n",
       "1   5.390387  0.880593  \n",
       "0   5.393994  0.880433  \n",
       "8   5.747154  0.864264  \n",
       "5   6.020060  0.851067  \n",
       "6   6.048001  0.849681  \n",
       "2   6.519695  0.825320  \n",
       "3   7.253041  0.783813  \n",
       "4   7.772387  0.751745  \n",
       "7   8.126623  0.728600  "
      ]
     },
     "execution_count": 17,
     "metadata": {},
     "output_type": "execute_result"
    }
   ],
   "source": [
    "# Initialize lists to store results\n",
    "model_names = []\n",
    "train_mae = []\n",
    "train_rmse = []\n",
    "train_r2 = []\n",
    "test_mae = []\n",
    "test_rmse = []\n",
    "test_r2 = []\n",
    "\n",
    "# Loop through results dictionary and populate lists\n",
    "for model_name, metrics in results.items():\n",
    "    model_names.append(model_name)\n",
    "    train_mae.append(metrics['Train']['MAE'])\n",
    "    train_rmse.append(metrics['Train']['RMSE'])\n",
    "    train_r2.append(metrics['Train']['R2'])\n",
    "    test_mae.append(metrics['Test']['MAE'])\n",
    "    test_rmse.append(metrics['Test']['RMSE'])\n",
    "    test_r2.append(metrics['Test']['R2'])\n",
    "\n",
    "# Create a DataFrame to store the results\n",
    "metrics_df = pd.DataFrame({\n",
    "    'Model Name': model_names,\n",
    "    'Train MAE': train_mae,\n",
    "    'Train RMSE': train_rmse,\n",
    "    'Train R²': train_r2,\n",
    "    'Test MAE': test_mae,\n",
    "    'Test RMSE': test_rmse,\n",
    "    'Test R²': test_r2\n",
    "})\n",
    "\n",
    "# Sort the DataFrame by Test R² in descending order\n",
    "sorted_metrics_df = metrics_df.sort_values(by=['Test R²'], ascending=False)\n",
    "\n",
    "# Display the sorted DataFrame\n",
    "sorted_metrics_df\n"
   ]
  },
  {
   "cell_type": "markdown",
   "metadata": {},
   "source": [
    "#### Ridge Regression\n"
   ]
  },
  {
   "cell_type": "code",
   "execution_count": 18,
   "metadata": {},
   "outputs": [],
   "source": [
    "# Create and fit the Ridge Regression model\n",
    "ridge_model = Ridge()\n",
    "ridge_model.fit(X_train, y_train)\n",
    "\n",
    "# Get predicted values for the test set\n",
    "y_test_pred = ridge_model.predict(X_test)"
   ]
  },
  {
   "cell_type": "code",
   "execution_count": 19,
   "metadata": {},
   "outputs": [
    {
     "data": {
      "image/png": "[encoded data removed]",
      "text/plain": [
       "<Figure size 800x600 with 1 Axes>"
      ]
     },
     "metadata": {},
     "output_type": "display_data"
    }
   ],
   "source": [
    "# Scatter plot of actual vs predicted\n",
    "plt.figure(figsize=(8,6))\n",
    "plt.scatter(y_test, y_test_pred, color='blue', alpha=0.6)\n",
    "plt.title('Actual vs Predicted for Ridge Regression')\n",
    "plt.xlabel('Actual Values')\n",
    "plt.ylabel('Predicted Values')\n",
    "plt.grid(True)\n",
    "plt.show()"
   ]
  },
  {
   "cell_type": "code",
   "execution_count": 20,
   "metadata": {},
   "outputs": [
    {
     "data": {
      "image/png": "[encoded data removed]",
      "text/plain": [
       "<Figure size 800x600 with 1 Axes>"
      ]
     },
     "metadata": {},
     "output_type": "display_data"
    }
   ],
   "source": [
    "# Regression plot (sns.regplot)\n",
    "plt.figure(figsize=(8,6))\n",
    "sns.regplot(x=y_test, y=y_test_pred, scatter_kws={'color': 'blue'}, line_kws={'color': 'red'})\n",
    "plt.title('Regression Plot: Actual vs Predicted for Ridge Regression')\n",
    "plt.xlabel('Actual Values')\n",
    "plt.ylabel('Predicted Values')\n",
    "plt.grid(True)\n",
    "plt.show()"
   ]
  },
  {
   "cell_type": "markdown",
   "metadata": {},
   "source": [
    "#### Difference between Actual and Predicted Values\n"
   ]
  },
  {
   "cell_type": "code",
   "execution_count": 21,
   "metadata": {},
   "outputs": [],
   "source": [
    "# Create a DataFrame of actual, predicted, and difference\n",
    "results_df = pd.DataFrame({\n",
    "    'Actual': y_test,\n",
    "    'Predicted': y_test_pred,\n",
    "    'Difference': y_test - y_test_pred\n",
    "})"
   ]
  },
  {
   "cell_type": "code",
   "execution_count": 22,
   "metadata": {},
   "outputs": [
    {
     "data": {
      "text/html": [
       "<div>\n",
       "<style scoped>\n",
       "    .dataframe tbody tr th:only-of-type {\n",
       "        vertical-align: middle;\n",
       "    }\n",
       "\n",
       "    .dataframe tbody tr th {\n",
       "        vertical-align: top;\n",
       "    }\n",
       "\n",
       "    .dataframe thead th {\n",
       "        text-align: right;\n",
       "    }\n",
       "</style>\n",
       "<table border=\"1\" class=\"dataframe\">\n",
       "  <thead>\n",
       "    <tr style=\"text-align: right;\">\n",
       "      <th></th>\n",
       "      <th>Actual</th>\n",
       "      <th>Predicted</th>\n",
       "      <th>Difference</th>\n",
       "    </tr>\n",
       "  </thead>\n",
       "  <tbody>\n",
       "    <tr>\n",
       "      <th>521</th>\n",
       "      <td>91</td>\n",
       "      <td>76.398705</td>\n",
       "      <td>14.601295</td>\n",
       "    </tr>\n",
       "    <tr>\n",
       "      <th>737</th>\n",
       "      <td>53</td>\n",
       "      <td>58.842469</td>\n",
       "      <td>-5.842469</td>\n",
       "    </tr>\n",
       "    <tr>\n",
       "      <th>740</th>\n",
       "      <td>80</td>\n",
       "      <td>76.992129</td>\n",
       "      <td>3.007871</td>\n",
       "    </tr>\n",
       "    <tr>\n",
       "      <th>660</th>\n",
       "      <td>74</td>\n",
       "      <td>76.805898</td>\n",
       "      <td>-2.805898</td>\n",
       "    </tr>\n",
       "    <tr>\n",
       "      <th>411</th>\n",
       "      <td>84</td>\n",
       "      <td>87.615387</td>\n",
       "      <td>-3.615387</td>\n",
       "    </tr>\n",
       "  </tbody>\n",
       "</table>\n",
       "</div>"
      ],
      "text/plain": [
       "     Actual  Predicted  Difference\n",
       "521      91  76.398705   14.601295\n",
       "737      53  58.842469   -5.842469\n",
       "740      80  76.992129    3.007871\n",
       "660      74  76.805898   -2.805898\n",
       "411      84  87.615387   -3.615387"
      ]
     },
     "execution_count": 22,
     "metadata": {},
     "output_type": "execute_result"
    }
   ],
   "source": [
    "results_df.head()"
   ]
  },
  {
   "cell_type": "code",
   "execution_count": null,
   "metadata": {},
   "outputs": [],
   "source": []
  }
 ],
 "metadata": {
  "kernelspec": {
   "display_name": ".venv",
   "language": "python",
   "name": "python3"
  },
  "language_info": {
   "codemirror_mode": {
    "name": "ipython",
    "version": 3
   },
   "file_extension": ".py",
   "mimetype": "text/x-python",
   "name": "python",
   "nbconvert_exporter": "python",
   "pygments_lexer": "ipython3",
   "version": "3.12.3"
  }
 },
 "nbformat": 4,
 "nbformat_minor": 2
}
